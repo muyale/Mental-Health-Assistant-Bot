{
  "cells": [
    {
      "cell_type": "markdown",
      "metadata": {
        "id": "view-in-github",
        "colab_type": "text"
      },
      "source": [
        "<a href=\"https://colab.research.google.com/github/muyale/Mental-Health-Assistant-Bot/blob/main/Mental_Health_Assistant_(Bot).ipynb\" target=\"_parent\"><img src=\"https://colab.research.google.com/assets/colab-badge.svg\" alt=\"Open In Colab\"/></a>"
      ]
    },
    {
      "cell_type": "code",
      "execution_count": null,
      "metadata": {
        "id": "vZPNft4Q21vM"
      },
      "outputs": [],
      "source": [
        "# installing the necessary dependencies\n",
        "!pip install transformers\n",
        "!pip install huggingfacehub\n",
        "!pip install langchain\n",
        "!pip install sentence-transformers\n",
        "!pip install gradio\n",
        "!pip install chromadb\n"
      ]
    },
    {
      "cell_type": "code",
      "execution_count": 2,
      "metadata": {
        "id": "zEk65hQR4R3i"
      },
      "outputs": [],
      "source": [
        "#importing the downloaded dependencies\n",
        "import torch\n",
        "import langchain\n",
        "import transformers\n",
        "from langchain import HuggingFaceHub,PromptTemplate\n",
        "from langchain.text_splitter import RecursiveCharacterTextSplitter\n",
        "from langchain.embeddings import HuggingFaceEmbeddings\n",
        "from langchain.vectorstores import Chroma\n",
        "from langchain.chains import LLMChain\n",
        "from langchain.document_loaders import TextLoader\n"
      ]
    },
    {
      "cell_type": "code",
      "execution_count": 3,
      "metadata": {
        "colab": {
          "base_uri": "https://localhost:8080/"
        },
        "id": "Jhs_A28f4YFj",
        "outputId": "af6968d1-a92c-431e-fb17-211976eddf70"
      },
      "outputs": [
        {
          "name": "stdout",
          "output_type": "stream",
          "text": [
            "··········\n"
          ]
        }
      ],
      "source": [
        "# creating a hugging face environment variable\n",
        "import os\n",
        "from getpass import getpass\n",
        "HUGGINGFACEHUB_API_TOKEN = getpass()\n"
      ]
    },
    {
      "cell_type": "code",
      "execution_count": 4,
      "metadata": {
        "id": "4CmqgPwo4cM7"
      },
      "outputs": [],
      "source": [
        "# creating the environment variable\n",
        "os.environ['HUGGINGFACEHUB_API_TOKEN'] = HUGGINGFACEHUB_API_TOKEN"
      ]
    },
    {
      "cell_type": "code",
      "execution_count": 5,
      "metadata": {
        "id": "dVuFaux15Eap"
      },
      "outputs": [],
      "source": [
        "# CREATING A TEMPLATE\n",
        "prompt_template = \"\"\"\n",
        "{context}\n",
        "\n",
        "Question: {question}\n",
        "Answer:\"\"\"\n",
        "\n",
        "\n",
        "prompt = PromptTemplate(\n",
        "    template = prompt_template,\n",
        "    input_variables = [\"context\", \"question\"]\n",
        ")\n"
      ]
    },
    {
      "cell_type": "code",
      "execution_count": 6,
      "metadata": {
        "id": "WNwkGf7_5PxD",
        "colab": {
          "base_uri": "https://localhost:8080/"
        },
        "outputId": "9e19957b-e369-42b4-e106-7f7c0d190193"
      },
      "outputs": [
        {
          "output_type": "stream",
          "name": "stderr",
          "text": [
            "/usr/local/lib/python3.10/dist-packages/langchain_core/_api/deprecation.py:117: LangChainDeprecationWarning: The class `langchain_community.llms.huggingface_hub.HuggingFaceHub` was deprecated in langchain-community 0.0.21 and will be removed in 0.2.0. Use HuggingFaceEndpoint instead.\n",
            "  warn_deprecated(\n",
            "/usr/local/lib/python3.10/dist-packages/langchain_core/_api/deprecation.py:117: LangChainDeprecationWarning: The function `__call__` was deprecated in LangChain 0.1.7 and will be removed in 0.2.0. Use invoke instead.\n",
            "  warn_deprecated(\n"
          ]
        }
      ],
      "source": [
        "# Getting our LLM\n",
        "repo_id = 'mistralai/Mistral-7B-Instruct-v0.2'\n",
        "llm  = HuggingFaceHub(repo_id=repo_id,model_kwargs={\"temperature\":0.9})\n",
        "# trying our llm with a bunch of text\n",
        "llm(\"What is a miracle?\")\n",
        "\n",
        "# Creating a LLMChain\n",
        "llm_chain = LLMChain(llm=llm,prompt=prompt)"
      ]
    },
    {
      "cell_type": "code",
      "execution_count": 7,
      "metadata": {
        "id": "9iS6pX9p5fqi"
      },
      "outputs": [],
      "source": [
        "# CREATING A DATABASE FOR OUR LLM TO INDEX\n",
        "# loading the data\n",
        "loader = TextLoader('/content/Mental Health Assistant Data.txt')\n",
        "documents = loader.load()\n",
        "#splitting the data into chunks\n",
        "text_splitter = RecursiveCharacterTextSplitter(chunk_size=100,chunk_overlap=10)\n",
        "all_splits = text_splitter.split_documents(documents)"
      ]
    },
    {
      "cell_type": "code",
      "execution_count": null,
      "metadata": {
        "id": "smK2Ywr-5m-A"
      },
      "outputs": [],
      "source": [
        "# Getting Embeddings\n",
        "model_name ='sentence-transformers/all-mpnet-base-v2'\n",
        "embeddings =HuggingFaceEmbeddings(model_name=model_name)"
      ]
    },
    {
      "cell_type": "code",
      "execution_count": 9,
      "metadata": {
        "id": "_RZpXd0d_B7v"
      },
      "outputs": [],
      "source": [
        "# Creating a Vector Store\n",
        "store = Chroma.from_documents(all_splits,embedding=embeddings)"
      ]
    },
    {
      "cell_type": "code",
      "execution_count": 10,
      "metadata": {
        "id": "gwpemEXXAwdx"
      },
      "outputs": [],
      "source": [
        "from langchain.chains import RetrievalQA"
      ]
    },
    {
      "cell_type": "code",
      "execution_count": 11,
      "metadata": {
        "id": "9LWgejFUA8Ob"
      },
      "outputs": [],
      "source": [
        "\n",
        "retriever = store.as_retriever()\n",
        "\n",
        "\n",
        "qa_chain = RetrievalQA.from_chain_type(\n",
        "    llm = llm,\n",
        "    chain_type = \"stuff\", # map_reduce, map_rerank, stuff, refine\n",
        "    retriever = retriever,\n",
        "    chain_type_kwargs = {\"prompt\": prompt},\n",
        "    return_source_documents = True,\n",
        "    verbose = False\n",
        ")"
      ]
    },
    {
      "cell_type": "code",
      "execution_count": 12,
      "metadata": {
        "id": "koHkPxS_r0Cf"
      },
      "outputs": [],
      "source": [
        "def mental_health(query):\n",
        "    result = qa_chain.invoke(query)\n",
        "    return result\n",
        ""
      ]
    },
    {
      "cell_type": "code",
      "source": [
        "mental_health(\"WHAT IS STRESS\")"
      ],
      "metadata": {
        "colab": {
          "base_uri": "https://localhost:8080/"
        },
        "id": "1b2GMpjdxM-4",
        "outputId": "2409d110-bc3f-4ed0-81c1-85604ebb3c60"
      },
      "execution_count": 13,
      "outputs": [
        {
          "output_type": "execute_result",
          "data": {
            "text/plain": [
              "{'query': 'WHAT IS STRESS',\n",
              " 'result': \"\\nyour emotional response to the worry.\\n\\ndiscomfort. So if you get tricked into treating worry as a danger, this naturally\\nmakes it worse.\\n\\nworry, how you try to get it under your control. The path out of chronic worry\\n\\nWhat do you think anxiety is good for? Why do we have the capacity to\\nbecome anxious?\\n\\nQuestion: WHAT IS STRESS\\nAnswer: Stress is the emotional and physical feeling of being under strain. It occurs in response to internal or external demands and can lead to a variety of symptoms, including increased heart rate, elevated blood pressure, muscle tension, and feelings of anxiety or unease. Stress can be acute, lasting only a short time, or chronic, lasting for an extended period. The body's stress response is a natural, evolutionary mechanism that helps us respond to threats, but chronic stress can be harmful\",\n",
              " 'source_documents': [Document(page_content='your emotional response to the worry.', metadata={'source': '/content/Mental Health Assistant Data.txt'}),\n",
              "  Document(page_content='discomfort. So if you get tricked into treating worry as a danger, this naturally\\nmakes it worse.', metadata={'source': '/content/Mental Health Assistant Data.txt'}),\n",
              "  Document(page_content='worry, how you try to get it under your control. The path out of chronic worry', metadata={'source': '/content/Mental Health Assistant Data.txt'}),\n",
              "  Document(page_content='What do you think anxiety is good for? Why do we have the capacity to\\nbecome anxious?', metadata={'source': '/content/Mental Health Assistant Data.txt'})]}"
            ]
          },
          "metadata": {},
          "execution_count": 13
        }
      ]
    },
    {
      "cell_type": "code",
      "source": [
        "import textwrap"
      ],
      "metadata": {
        "id": "86KVJYjtyLyR"
      },
      "execution_count": 14,
      "outputs": []
    },
    {
      "cell_type": "code",
      "execution_count": 15,
      "metadata": {
        "id": "493wXMuKr0Cf"
      },
      "outputs": [],
      "source": [
        "def wrap_text_preserve_newlines(text, width=700):\n",
        "    # Split the input text into lines based on newline characters\n",
        "    lines = text.split('\\n')\n",
        "\n",
        "    # Wrap each line individually\n",
        "    wrapped_lines = [textwrap.fill(line, width=width) for line in lines]\n",
        "\n",
        "    # Join the wrapped lines back together using newline characters\n",
        "    wrapped_text = '\\n'.join(wrapped_lines)\n",
        "\n",
        "    return wrapped_text\n",
        "\n",
        "\n",
        "def process_llm_response(llm_response):\n",
        "    ans = wrap_text_preserve_newlines(llm_response['result'])\n",
        "    return ans"
      ]
    },
    {
      "cell_type": "code",
      "execution_count": 17,
      "metadata": {
        "id": "dKJqkog1r0Cg"
      },
      "outputs": [],
      "source": [
        "def llm_ans(query):\n",
        "    llm_response = qa_chain.invoke(query)\n",
        "    result = process_llm_response(llm_response)\n",
        "    return result.strip()"
      ]
    },
    {
      "cell_type": "code",
      "source": [
        "llm_ans('what to do when depressed')"
      ],
      "metadata": {
        "colab": {
          "base_uri": "https://localhost:8080/",
          "height": 105
        },
        "id": "-Hsyym-zxfu9",
        "outputId": "cd99791d-ff6f-4f6c-eee9-245131cf009b"
      },
      "execution_count": 18,
      "outputs": [
        {
          "output_type": "execute_result",
          "data": {
            "text/plain": [
              "\"go see a funny movie, or have a nice chat with a friend-I start thinking and\\n\\ndealing with a different kind of problem-depressive memories of a past event,\\n\\nI won't be able to solve this because I'll always feel depressed.\\n\\nmake yourself busy. That's too much like trying to get rid of the thoughts. Not\\n\\nQuestion: what to do when depressed\\nAnswer: Engage in activities that require focus and energy, such as exercising, working on a project, or socializing with friends. These activities can help distract you from your negative thoughts and improve your mood. Additionally, try practicing relaxation techniques, such as deep breathing or meditation, to help calm your mind and reduce stress. If your depression is severe or persistent, consider seeking help from a mental health professional.\""
            ],
            "application/vnd.google.colaboratory.intrinsic+json": {
              "type": "string"
            }
          },
          "metadata": {},
          "execution_count": 18
        }
      ]
    },
    {
      "cell_type": "code",
      "source": [
        "# @title\n",
        "import gradio as gr\n",
        "description ='This is a Mental Health Virtual Assistant trained to help you navigate several of your mental health issues.Ask anything about Stress,Depression,Grief,Anxiety.This is not to be subsituted for a therapist ,you are advised to seek professional help where necessary'\n",
        "gr.Interface(inputs='text',outputs='text',title='MENTAL HEALTH ASSISTANT',description=description,theme=gr.themes.Monochrome(),fn=llm_ans).launch(debug=True)"
      ],
      "metadata": {
        "colab": {
          "base_uri": "https://localhost:8080/",
          "height": 645
        },
        "id": "g4O99Pcp2rfI",
        "outputId": "f09a4c12-13b7-433e-d1d8-3f2100263ee8"
      },
      "execution_count": null,
      "outputs": [
        {
          "output_type": "stream",
          "name": "stdout",
          "text": [
            "Setting queue=True in a Colab notebook requires sharing enabled. Setting `share=True` (you can turn this off by setting `share=False` in `launch()` explicitly).\n",
            "\n",
            "Colab notebook detected. This cell will run indefinitely so that you can see errors and logs. To turn off, set debug=False in launch().\n",
            "Running on public URL: https://963ea2023359d237a9.gradio.live\n",
            "\n",
            "This share link expires in 72 hours. For free permanent hosting and GPU upgrades, run `gradio deploy` from Terminal to deploy to Spaces (https://huggingface.co/spaces)\n"
          ]
        },
        {
          "output_type": "display_data",
          "data": {
            "text/plain": [
              "<IPython.core.display.HTML object>"
            ],
            "text/html": [
              "<div><iframe src=\"https://963ea2023359d237a9.gradio.live\" width=\"100%\" height=\"500\" allow=\"autoplay; camera; microphone; clipboard-read; clipboard-write;\" frameborder=\"0\" allowfullscreen></iframe></div>"
            ]
          },
          "metadata": {}
        }
      ]
    }
  ],
  "metadata": {
    "colab": {
      "provenance": [],
      "gpuType": "T4",
      "include_colab_link": true
    },
    "kernelspec": {
      "display_name": "Python 3",
      "name": "python3"
    },
    "language_info": {
      "codemirror_mode": {
        "name": "ipython",
        "version": 3
      },
      "file_extension": ".py",
      "mimetype": "text/x-python",
      "name": "python",
      "nbconvert_exporter": "python",
      "pygments_lexer": "ipython3",
      "version": "3.9.13"
    },
    "accelerator": "GPU"
  },
  "nbformat": 4,
  "nbformat_minor": 0
}